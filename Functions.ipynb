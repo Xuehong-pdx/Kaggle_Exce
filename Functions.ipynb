{
  "cells": [
    {
      "metadata": {
        "_uuid": "088a3de08585483d3fa3204da676dcffb52f2c66"
      },
      "cell_type": "markdown",
      "source": "These exercises accompany the tutorial on [functions and getting help](https://www.kaggle.com/colinmorris/functions-and-getting-help).\n\nAs before, don't forget to run the setup code below before jumping into question 1."
    },
    {
      "metadata": {
        "_kg_hide-input": true,
        "_kg_hide-output": true,
        "_uuid": "b786f9bcdf8cf81d11f8b28db139a56287df8708",
        "trusted": true
      },
      "cell_type": "code",
      "source": "# SETUP. You don't need to worry for now about what this code does or how it works. If you're ever curious about the \n# code behind these exercises, it's available under an open source license here: https://github.com/Kaggle/learntools/\nfrom learntools.core import binder; binder.bind(globals())\nfrom learntools.python.ex2 import *\nprint('Setup complete.')",
      "execution_count": 1,
      "outputs": [
        {
          "output_type": "stream",
          "text": "Setup complete.\n",
          "name": "stdout"
        }
      ]
    },
    {
      "metadata": {
        "_uuid": "8a0e3d726f498e2b38efefccf4dc87cfc656b438"
      },
      "cell_type": "markdown",
      "source": "# Exercises"
    },
    {
      "metadata": {
        "_uuid": "fe2654ce790a4e23b1da1d27104c88e8dfaecc94"
      },
      "cell_type": "markdown",
      "source": "## 1.\n\nComplete the body of the following function according to its docstring.\n\nHINT: Python has a builtin function `round`"
    },
    {
      "metadata": {
        "_uuid": "60ba260cbf9b9a5f7f62d6b7657294ef706b6a92",
        "trusted": true
      },
      "cell_type": "code",
      "source": "def round_to_two_places(num):\n    \"\"\"Return the given number rounded to two decimal places. \n    \n    >>> round_to_two_places(3.14159)\n    3.14\n    \"\"\"\n    n=round(num, 2)\n    return n\n\nq1.check()",
      "execution_count": null,
      "outputs": []
    },
    {
      "metadata": {
        "collapsed": true,
        "_uuid": "164048fdb1b6a8aff97e53b69b6d50c9ccc09e3f",
        "trusted": false
      },
      "cell_type": "code",
      "source": "# Uncomment the following for a hint\n#q1.hint()\n# Or uncomment the following to peek at the solution\n#q1.solution()",
      "execution_count": null,
      "outputs": []
    },
    {
      "metadata": {
        "collapsed": true,
        "_uuid": "74873b0db59fbb45efb967318a7dc1eee0cd48bf"
      },
      "cell_type": "markdown",
      "source": "## 2.\nThe help for `round` says that `ndigits` (the second argument) may be negative.\nWhat do you think will happen when it is? Try out some examples in the console (at the bottom of the editor) or in a new code cell.\n\nCan you think of a case where this would be useful?"
    },
    {
      "metadata": {
        "_uuid": "b888b1acc11066d5179d8ad81423247d6ddaae3d",
        "trusted": true
      },
      "cell_type": "code",
      "source": "q2.solution()",
      "execution_count": null,
      "outputs": []
    },
    {
      "metadata": {
        "_uuid": "a8b9a265e72af95fc74de3b20440924662898e68"
      },
      "cell_type": "markdown",
      "source": "## 3.\n\nIn the last exercise, I introduced candy-sharing friends Alice, Bob and Carol. As a reminder, they have some candies which they plan to split evenly among themselves. For the sake of their friendship, any candies left over would be smashed. For example, if they collectively bring home 91 candies, they'll take 30 each and smash 1.\n\nEarlier, you wrote some code to calculate how many candies they'd have to smash, assuming they collected a particular number.\n\nBelow is a simple function that will calculate the number of candies to smash for *any* number of total candies.\n\nModify it so that it optionally takes a second argument representing the number of friends the candies are being split between. If no second argument is provided, it should assume 3 friends, as before.\n\nIf you're feeling extra fastidious, update the docstring to reflect this new behaviour (but we won't be checking for this)."
    },
    {
      "metadata": {
        "_uuid": "884979969d1f3ba03e2803092c01d958ef2f012f",
        "trusted": true
      },
      "cell_type": "code",
      "source": "def to_smash(total_candies, n=3):\n    \"\"\"Return the number of leftover candies that must be smashed after distributing\n    the given number of candies evenly between 3 friends.\n    \n    >>> to_smash(91)\n    1\n    \"\"\"\n    return total_candies % n\n\nq3.check()",
      "execution_count": null,
      "outputs": []
    },
    {
      "metadata": {
        "_uuid": "e940efa33139fb7c843853ea0284a13f14abbea2",
        "trusted": true
      },
      "cell_type": "code",
      "source": "q3.hint()",
      "execution_count": null,
      "outputs": []
    },
    {
      "metadata": {
        "collapsed": true,
        "_uuid": "919b88e632cc0fb6e7525812dbcd839c9d850de7",
        "trusted": false
      },
      "cell_type": "code",
      "source": "#q3.solution()",
      "execution_count": null,
      "outputs": []
    },
    {
      "metadata": {
        "_uuid": "eb9ae36b04ec34bd1d2e3e0de07d5e45810494b7"
      },
      "cell_type": "markdown",
      "source": "## 4.\n\nIt may not be fun, but reading and understanding error messages will be an important part of your Python career.\n\nEach code cell below contains some commented-out buggy code. For each cell...\n\n1. Read the code and predict what you think will happen when it's run.\n2. Then uncomment the code and run it to see what happens. (**Tip**: In the kernel editor, you can highlight several lines and press `ctrl`+`/` to toggle commenting.)\n3. Fix the code (so that it accomplishes its intended purpose without throwing an exception)\n\n<!-- TODO: should this be autochecked? Delta is probably pretty small. -->"
    },
    {
      "metadata": {
        "_uuid": "5ba3665eefb4fbfe13bfd3517be215a3264c744b",
        "trusted": true
      },
      "cell_type": "code",
      "source": "round(9.9866,2)",
      "execution_count": null,
      "outputs": []
    },
    {
      "metadata": {
        "_uuid": "dbea33147f2bd659c831578eefee9dbcee6a3757",
        "trusted": true
      },
      "cell_type": "code",
      "source": "x = -10\ny = 5\n# Which of the two variables above has the smallest absolute value?\nsmallest_abs = min(abs(x), abs(y))",
      "execution_count": null,
      "outputs": []
    },
    {
      "metadata": {
        "_uuid": "0e1e3d8f733e45c45bd9f066159bf7e41d8ccc77",
        "trusted": true
      },
      "cell_type": "code",
      "source": "def f(x):\n    y = abs(x)\n    return y\n\nprint(f(5))",
      "execution_count": null,
      "outputs": []
    },
    {
      "metadata": {
        "_uuid": "b18c4e436728ab32ffa0c6762ad6bce295b1f2f5"
      },
      "cell_type": "markdown",
      "source": "## 5. <span title=\"A bit spicy\" style=\"color: darkgreen \">🌶️</span>\n\nFor this question, we'll be using two functions imported from Python's `time` module.\n\nThe [time](https://docs.python.org/3/library/time.html#time.time) function returns the number of seconds that have passed since the Epoch (aka [Unix time](https://en.wikipedia.org/wiki/Unix_time)). \n\n<!-- We've provided a function called `seconds_since_epoch` which returns the number of seconds that have passed since the Epoch (aka [Unix time](https://en.wikipedia.org/wiki/Unix_time)). -->\n\nTry it out below. Each time you run it, you should get a slightly larger number."
    },
    {
      "metadata": {
        "_uuid": "bba8ed2ce5695c4f3d2d209c584a5c556f8d43cf",
        "trusted": true
      },
      "cell_type": "code",
      "source": "# Importing the function 'time' from the module of the same name. \n# (We'll discuss imports in more depth later)\nfrom time import time\nt = time()\nprint(t, \"seconds since the Epoch\")",
      "execution_count": null,
      "outputs": []
    },
    {
      "metadata": {
        "_uuid": "4b03ac819dd6c272a0222e57615ef8dc8d7004af"
      },
      "cell_type": "markdown",
      "source": "We'll also be using a function called [sleep](https://docs.python.org/3/library/time.html#time.sleep), which makes us wait some number of seconds while it does nothing particular. (Sounds useful, right?)\n\nYou can see it in action by running the cell below:"
    },
    {
      "metadata": {
        "_uuid": "983ac6a5b71819ab837d0bb6dd2da355db25f8c3",
        "trusted": false
      },
      "cell_type": "code",
      "source": "from time import sleep\nduration = 5\nprint(\"Getting sleepy. See you in\", duration, \"seconds\")\nsleep(duration)\nprint(\"I'm back. What did I miss?\")",
      "execution_count": null,
      "outputs": []
    },
    {
      "metadata": {
        "_uuid": "e0545547f25c0b48f87a6e57329b65a4a99dcaed"
      },
      "cell_type": "markdown",
      "source": "With the help of these functions, complete the function `time_call` below according to its docstring.\n\n<!-- (The sleep function will be useful for testing here since we have a pretty good idea of what something like `time_call(sleep, 1)` should return.) -->"
    },
    {
      "metadata": {
        "_uuid": "08d29fe6de4fcec1c90e4cb0049009661fe7def8",
        "trusted": true
      },
      "cell_type": "code",
      "source": "def time_call(fn, arg):\n    \"\"\"Return the amount of time the given function takes (in seconds) when called with the given argument.\n    \"\"\"\n    t1=time()\n    fn(arg)\n    t2=time()\n    return t2 -t1",
      "execution_count": null,
      "outputs": []
    },
    {
      "metadata": {
        "_uuid": "ecce1da7ad30451fec6319e812d97292bd2aa00b"
      },
      "cell_type": "markdown",
      "source": "How can you verify that `time_call` is working correctly? (There's no `q5.check()` function for this question - testing your solution is part of your challenge.)"
    },
    {
      "metadata": {
        "collapsed": true,
        "_uuid": "a884ccefa18b559ef5ce81b66d57a9f93839ee36",
        "trusted": false
      },
      "cell_type": "code",
      "source": "#q5.hint()",
      "execution_count": null,
      "outputs": []
    },
    {
      "metadata": {
        "_uuid": "8931bf0d9febb0f0a96ab24f14f964764d5150cb",
        "trusted": true
      },
      "cell_type": "code",
      "source": "q5.solution()",
      "execution_count": null,
      "outputs": []
    },
    {
      "metadata": {
        "_uuid": "819efeb3c060045ae9c8437745c9a072a45f9243"
      },
      "cell_type": "markdown",
      "source": "## 6. <span title=\"A bit spicy\" style=\"color: darkgreen \">🌶️</span>\n\n*Note: this question depends on a working solution to the previous question.*\n\nComplete the function below according to its docstring."
    },
    {
      "metadata": {
        "_uuid": "d40f36458220f1e204959e003f21695563c545e9",
        "trusted": true
      },
      "cell_type": "code",
      "source": "def slowest_call(fn, arg1, arg2, arg3):\n    \"\"\"Return the amount of time taken by the slowest of the following function\n    calls: fn(arg1), fn(arg2), fn(arg3)\n    \"\"\"\n    return max(time_call(fn, arg1), time_call(fn, arg2), time_call(fn, arg3))\n    ",
      "execution_count": null,
      "outputs": []
    },
    {
      "metadata": {
        "collapsed": true,
        "_uuid": "8c82b6cad509f0ac5dcfc5cdea07ef0ea95f41a4",
        "trusted": false
      },
      "cell_type": "code",
      "source": "#q6.hint()",
      "execution_count": null,
      "outputs": []
    },
    {
      "metadata": {
        "_uuid": "c07f5388ff689a3bf53e61dc02679ae5700c52f8",
        "trusted": true
      },
      "cell_type": "code",
      "source": "q6.solution()",
      "execution_count": null,
      "outputs": []
    },
    {
      "metadata": {
        "_uuid": "64f6ee53ab5f5b743d6bcde859c6f1ec46b54e00"
      },
      "cell_type": "markdown",
      "source": "\n\n## 7. <span title=\"A bit spicy\" style=\"color: darkgreen \">🌶️</span>\n\nWhat will Python display after we run the following (weird) code? Think carefully about the order in which Python will evaluate each part. When you have a prediction, uncomment and run the code to check whether you were correct."
    },
    {
      "metadata": {
        "_uuid": "d31afd6e6049d0c256d39600150f92bb359bb294",
        "trusted": true
      },
      "cell_type": "code",
      "source": "print(print(\"Spam\"))",
      "execution_count": null,
      "outputs": []
    },
    {
      "metadata": {
        "collapsed": true,
        "_uuid": "eee61add357af39170f61df96915427eed23f6f9",
        "trusted": false
      },
      "cell_type": "code",
      "source": "#q7.hint()",
      "execution_count": null,
      "outputs": []
    },
    {
      "metadata": {
        "_uuid": "18543edd3413e64c5504db595f4bdd0fc2529a10",
        "trusted": true
      },
      "cell_type": "code",
      "source": "# Uncomment for an explanation.\nq7.solution()",
      "execution_count": null,
      "outputs": []
    },
    {
      "metadata": {
        "_uuid": "e199c5257cb52bdc11e32f7c9e9a51f3d538de63"
      },
      "cell_type": "markdown",
      "source": "## 8. <span title=\"Spicy - this optional problem is intended to be extra difficult\" style=\"color: coral\">🌶️🌶️</span>\n\nRead the function definition below. What do you think will be returned by the function call at the bottom of the cell? Will it match the docstring example? Return something else? Or will Python raise an exception? When you're ready, run the code cell to find out."
    },
    {
      "metadata": {
        "_uuid": "1d70429e16d3efd988cbcafe9fd4f881a80a4c25",
        "trusted": true
      },
      "cell_type": "code",
      "source": "def smallest_stringy_number(s1, s2, s3):\n    \"\"\"Return whichever of the three string arguments represents the smallest number.\n    \n    >>> smallest_stringy_number('1', '2', '3')\n    '1'\n    \"\"\"\n    return min(s1, s2, s3)\n\nsmallest_stringy_number('10', '2', '5')",
      "execution_count": 10,
      "outputs": [
        {
          "output_type": "execute_result",
          "execution_count": 10,
          "data": {
            "text/plain": "'10'"
          },
          "metadata": {}
        }
      ]
    },
    {
      "metadata": {
        "_uuid": "f9e43501c41ce3f45b06305c13cbc259cc293546"
      },
      "cell_type": "markdown",
      "source": "<br/><br/><br/><br/><br/><br/><br/><br/><br/>\n\n(If you thought it would raise an exception, that's a perfectly reasonable guess. A large portion of learning Python is just trying stuff out and seeing what happens! A lot of arbitrary or at least subjective decisions go into designing a programming language, and it's not always possible to deduce from first principles how Python will handle a particular situation.)\n\nBut in this case, the `min` function gamely accepts our string inputs and seems to work as desired! Or, at least on the example in the docstring. However, there's a subtle problem afoot. Try experimenting with the function to see if you can find a set of inputs where it fails. Can you see where it's going wrong?"
    },
    {
      "metadata": {
        "_uuid": "aae40691129c9df046498d1fcea89f558936f661",
        "trusted": true
      },
      "cell_type": "code",
      "source": "q8.a.solution()",
      "execution_count": 9,
      "outputs": [
        {
          "output_type": "display_data",
          "data": {
            "text/plain": "<IPython.core.display.Javascript object>",
            "application/javascript": "parent.postMessage({\"jupyterEvent\": \"custom.exercise_interaction\", \"data\": {\"interactionType\": 3, \"learnTutorialId\": 104, \"questionId\": \"8.1_SmallestStringyDebug\", \"learnToolsVersion\": \"0.2.10\", \"valueTowardsCompletion\": 0.0, \"failureMessage\": \"\", \"exceptionClass\": \"\", \"trace\": \"\", \"outcomeType\": 4}}, \"*\")"
          },
          "metadata": {}
        },
        {
          "output_type": "display_data",
          "data": {
            "text/plain": "Solution: `smallest_stringy_number('10', '2', '3')` is one example of a failure - it evaluates to '10' rather than '2'.\n\nThe problem is that when `min` is applied to strings, Python returns the earliest one in *lexicographic order* (i.e. something like the logic used to order dictionaries or phonebooks) rather than considering their numerical value.",
            "text/markdown": "<span style=\"color:#33cc99\">Solution:</span> `smallest_stringy_number('10', '2', '3')` is one example of a failure - it evaluates to '10' rather than '2'.\n\nThe problem is that when `min` is applied to strings, Python returns the earliest one in *lexicographic order* (i.e. something like the logic used to order dictionaries or phonebooks) rather than considering their numerical value.\n"
          },
          "metadata": {}
        }
      ]
    },
    {
      "metadata": {
        "_uuid": "9d857ac12ff3b116b55c37b59897dcf97cdab148"
      },
      "cell_type": "markdown",
      "source": "### b.\n\nIn the cell below, modify `smallest_stringy_number` to fix the bug you identified in part a.\n\nReminder: [In the first lesson](https://www.kaggle.com/colinmorris/hello-python), we briefly saw that `int` can be called on strings such as `'32'` to get the corresponding integer value.\n\n**Bonus**: Can you keep the function's body down to one line? (Try to only use tools we've seen so far - i.e. no loops, conditionals, etc.)"
    },
    {
      "metadata": {
        "_uuid": "7d03eb11acf67d8e154c6acbf783f32793585da2",
        "trusted": true
      },
      "cell_type": "code",
      "source": "def smallest_stringy_number(s1, s2, s3):\n    \"\"\"Return whichever of the three string arguments represents the smallest number.\n    \n    >>> smallest_stringy_number('1', '2', '3')\n    '1'\n    \"\"\"\n    t1, t2, t3 =int(s1), int(s2),int(s3)\n    return str(min(t1, t2, t3))\n\nq8.b.check()",
      "execution_count": 13,
      "outputs": [
        {
          "output_type": "display_data",
          "data": {
            "text/plain": "<IPython.core.display.Javascript object>",
            "application/javascript": "parent.postMessage({\"jupyterEvent\": \"custom.exercise_interaction\", \"data\": {\"outcomeType\": 1, \"valueTowardsCompletion\": 0.5, \"interactionType\": 1, \"learnTutorialId\": 104, \"questionId\": \"8.2_SmallestStringyFix\", \"learnToolsVersion\": \"0.2.10\", \"failureMessage\": \"\", \"exceptionClass\": \"\", \"trace\": \"\"}}, \"*\")"
          },
          "metadata": {}
        },
        {
          "output_type": "display_data",
          "data": {
            "text/plain": "Correct",
            "text/markdown": "<span style=\"color:#33cc33\">Correct</span>"
          },
          "metadata": {}
        }
      ]
    },
    {
      "metadata": {
        "collapsed": true,
        "_uuid": "625f89ba9f0f432211810dba5450bd445d971e65",
        "trusted": false
      },
      "cell_type": "code",
      "source": "#q8.b.hint()",
      "execution_count": null,
      "outputs": []
    },
    {
      "metadata": {
        "_uuid": "fd34bd1229116d5055624be87a13535f4ada42ad",
        "trusted": true
      },
      "cell_type": "code",
      "source": "q8.b.solution()",
      "execution_count": null,
      "outputs": []
    },
    {
      "metadata": {
        "_uuid": "e6df750901cb9575d69fe7f7cdb35c8b9a43f2b7"
      },
      "cell_type": "markdown",
      "source": "If you have any questions, be sure to post them on the [forums](https://www.kaggle.com/learn-forum).\n\nRemember that your notebook is private by default, and in order to share it with other people or ask for help with it, you'll need to make it public. First, you'll need to save a version of your notebook that shows your current work by hitting the \"Commit & Run\" button. (Your work is saved automatically, but versioning your work lets you go back and look at what it was like at the point you saved it. It also let's you share a nice compiled notebook instead of just the raw code.) Then, once your notebook is finished running, you can go to the Settings tab in the panel to the left (you may have to expand it by hitting the [<] button next to the \"Commit & Run\" button) and setting the \"Visibility\" dropdown to \"Public\".\n\n# Keep Going\n\nWhen you're ready to continue, [click here](https://www.kaggle.com/colinmorris/booleans-and-conditionals) to continue on to the next tutorial on booleans and conditionals."
    }
  ],
  "metadata": {
    "kernelspec": {
      "display_name": "Python 3",
      "language": "python",
      "name": "python3"
    },
    "language_info": {
      "name": "python",
      "version": "3.6.6",
      "mimetype": "text/x-python",
      "codemirror_mode": {
        "name": "ipython",
        "version": 3
      },
      "pygments_lexer": "ipython3",
      "nbconvert_exporter": "python",
      "file_extension": ".py"
    },
    "learntools_metadata": {
      "lesson_index": 1,
      "type": "exercise"
    }
  },
  "nbformat": 4,
  "nbformat_minor": 1
}