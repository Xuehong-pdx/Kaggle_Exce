{
  "cells": [
    {
      "metadata": {
        "_uuid": "46cb59ed24ccc752a210d1464edd5635170884ea"
      },
      "cell_type": "markdown",
      "source": "These exercises accompany the tutorial on [lists and tuples](https://www.kaggle.com/colinmorris/lists).\n\nAs always be sure to run the setup code below before working on the questions (and if you leave this notebook and come back later, don't forget to run the setup code again)."
    },
    {
      "metadata": {
        "_uuid": "a551b2650005b27310d70bd793fef1bc40e17b70",
        "trusted": true
      },
      "cell_type": "code",
      "source": "# SETUP. You don't need to worry for now about what this code does or how it works. If you're ever curious about the \n# code behind these exercises, it's available under an open source license here: https://github.com/Kaggle/learntools/\nfrom learntools.core import binder; binder.bind(globals())\nfrom learntools.python.ex4 import *\nprint('Setup complete.')",
      "execution_count": 15,
      "outputs": [
        {
          "output_type": "stream",
          "text": "WARNING:root:Ignoring repeated attempt to bind to globals\n",
          "name": "stderr"
        },
        {
          "output_type": "stream",
          "text": "Setup complete.\n",
          "name": "stdout"
        }
      ]
    },
    {
      "metadata": {
        "_uuid": "b20f5e3a3abc14557e33de4ab1ad76a7c909aa62"
      },
      "cell_type": "markdown",
      "source": "# Exercises"
    },
    {
      "metadata": {
        "_uuid": "7af4a364ba62004655d7a27495ef07f9b49a8bc2"
      },
      "cell_type": "markdown",
      "source": "## 1.\n\nComplete the function below according to its docstring."
    },
    {
      "metadata": {
        "_uuid": "391af53f03d11ed969adb4b49ff0239aa7800794",
        "trusted": true
      },
      "cell_type": "code",
      "source": "def select_second(L):\n    \"\"\"Return the second element of the given list. If the list has no second\n    element, return None.\n    \"\"\"\n    if len(L) < 2:\n        return None\n    return L[1]\nq1.check()",
      "execution_count": null,
      "outputs": []
    },
    {
      "metadata": {
        "collapsed": true,
        "_uuid": "c98c4162ac652b2b0c83b7045ebb52c3f3cc0aed",
        "trusted": false
      },
      "cell_type": "code",
      "source": "#q1.hint()\n#q1.solution()",
      "execution_count": null,
      "outputs": []
    },
    {
      "metadata": {
        "_uuid": "791116185558d206330a7407fd8d150edb6295a8"
      },
      "cell_type": "markdown",
      "source": "## 2.\n\nYou are analyzing sports teams.  Members of each team are stored in a list. The Coach is the first name in the list, the captain is the second name in the list, and other players are listed after that. \nThese lists are stored in another list, which starts with the best team and proceeds through the list to the worst team last.  Complete the function below to select the **captain** of the worst team."
    },
    {
      "metadata": {
        "_uuid": "070bc91dd9ad8f73a004b6961db1f99ed3909970",
        "trusted": true
      },
      "cell_type": "code",
      "source": "def losing_team_captain(teams):\n    \"\"\"Given a list of teams, where each team is a list of names, return the 2nd player (captain)\n    from the last listed team\n    \"\"\"\n    return teams[-1][1]\n\nq2.check()",
      "execution_count": null,
      "outputs": []
    },
    {
      "metadata": {
        "collapsed": true,
        "_uuid": "dea5072339b844ed93b72febda0bc5d1c7826cb9",
        "trusted": false
      },
      "cell_type": "code",
      "source": "#q2.hint()\n#q2.solution()",
      "execution_count": null,
      "outputs": []
    },
    {
      "metadata": {
        "_uuid": "30f662d547ca8965b88db72e4f6fdebe563b5e5f"
      },
      "cell_type": "markdown",
      "source": "## 3.\n\nThe next iteration of Mario Kart will feature an extra-infuriating new item, the *Purple Shell*. When used, it warps the last place racer into first place and the first place racer into last place. Complete the function below to implement the Purple Shell's effect."
    },
    {
      "metadata": {
        "_uuid": "b0d40253f40eeb5e6f4423d98228bf3a70f4e316",
        "trusted": true
      },
      "cell_type": "code",
      "source": "def purple_shell(racers):\n    \"\"\"Given a list of racers, set the first place racer (at the front of the list) to last\n    place and vice versa.\n    \n    >>> r = [\"Mario\", \"Bowser\", \"Luigi\"]\n    >>> purple_shell(r)\n    >>> r\n    [\"Luigi\", \"Bowser\", \"Mario\"]\n    \"\"\"\n    \n    s=[]\n    for i in range(len(racers)):\n        n=len(racers)-i-1\n        s.append(racers[n])\n    \nq3.check()",
      "execution_count": null,
      "outputs": []
    },
    {
      "metadata": {
        "_uuid": "d9922677698be4cdac63e6f024993492bfe275e6",
        "trusted": true
      },
      "cell_type": "code",
      "source": "q3.hint()\nq3.solution()",
      "execution_count": null,
      "outputs": []
    },
    {
      "metadata": {
        "_uuid": "cd437217adbb949733a86c47008e03d1515bbb92"
      },
      "cell_type": "markdown",
      "source": "## 4.\n\nWhat are the lengths of the following lists? Fill in the variable `lengths` with your predictions. (Try to make a prediction for each list *without* just calling `len()` on it.)"
    },
    {
      "metadata": {
        "_uuid": "526a1a39dc59ce51863dda222993f4c559b6d895",
        "trusted": true
      },
      "cell_type": "code",
      "source": "a = [1, 2, 3]\nb = [1, [2, 3]]\nc = []\nd = [1, 2, 3][1:]\n\n# Put your predictions in the list below. Lengths should contain 4 numbers, the\n# first being the length of a, the second being the length of b and so on.\nlengths = [3,2,0,2]\nlen(d)\n\nq4.check()",
      "execution_count": null,
      "outputs": []
    },
    {
      "metadata": {
        "collapsed": true,
        "_uuid": "09b893bbe4bf64c2ddecd065e76c2652799857f5",
        "trusted": false
      },
      "cell_type": "code",
      "source": "# line below provides some explanation\n#q4.solution()",
      "execution_count": null,
      "outputs": []
    },
    {
      "metadata": {
        "_uuid": "b793ab0eee78d07d87f309201ac9b577205a351b"
      },
      "cell_type": "markdown",
      "source": "## 5. <span title=\"A bit spicy\" style=\"color: darkgreen \">🌶️</span>\n\nWe're using lists to record people who attended our party and what order they arrived in. For example, the following list represents a party with 7 guests, in which Adela showed up first and Ford was the last to arrive:\n\n    party_attendees = ['Adela', 'Fleda', 'Owen', 'May', 'Mona', 'Gilbert', 'Ford']\n\nA guest is considered 'fashionably late' if they arrived after at least half of the party's guests. However, they must not be the very last guest (that's taking it too far). In the above example, Mona and Gilbert are the only guests who were fashionably late.\n\nComplete the function below which takes a list of party attendees as well as a person, and tells us whether that person is fashionably late."
    },
    {
      "metadata": {
        "_uuid": "86416281b8547fb8cfdc9c10c185be576f3b757b",
        "trusted": true
      },
      "cell_type": "code",
      "source": "def fashionably_late(arrivals, name):\n    \"\"\"Given an ordered list of arrivals to the party and a name, return whether the guest with that\n    name was fashionably late.\n    \"\"\"\n    if arrivals.index(name) < len(arrivals)/2:\n        return False\n    else:\n        return name !=arrivals[-1]\n                \nq5.check()",
      "execution_count": 6,
      "outputs": [
        {
          "output_type": "display_data",
          "data": {
            "text/plain": "<IPython.core.display.Javascript object>",
            "application/javascript": "parent.postMessage({\"jupyterEvent\": \"custom.exercise_interaction\", \"data\": {\"outcomeType\": 1, \"valueTowardsCompletion\": 0.2, \"interactionType\": 1, \"learnTutorialId\": 108, \"questionId\": \"5_FashionablyLate\", \"learnToolsVersion\": \"0.2.10\", \"failureMessage\": \"\", \"exceptionClass\": \"\", \"trace\": \"\"}}, \"*\")"
          },
          "metadata": {}
        },
        {
          "output_type": "display_data",
          "data": {
            "text/plain": "Correct",
            "text/markdown": "<span style=\"color:#33cc33\">Correct</span>"
          },
          "metadata": {}
        }
      ]
    },
    {
      "metadata": {
        "collapsed": true,
        "_uuid": "96d9bfc64866b79f018b4aace2d72bae193b4c2a",
        "trusted": false
      },
      "cell_type": "code",
      "source": "#q5.hint()\n#q5.solution()",
      "execution_count": null,
      "outputs": []
    },
    {
      "metadata": {
        "_uuid": "90633bd440cff27750e6f8352e26f7f4baafe752"
      },
      "cell_type": "markdown",
      "source": "## 6. <span style=\"color: firebrick\" title=\"This is an optional extra-spicy question\">🌶️🌶️🌶️</span>\n\n*This question is intended more as a fun riddle than a test of your programming prowess :)*\n\nImplement the body of the following function **using only tools we've covered so far - NO LOOPS!**"
    },
    {
      "metadata": {
        "_uuid": "0e3f3099969496421007eb19f2c26ed733ec4063",
        "trusted": true
      },
      "cell_type": "code",
      "source": "def count_negatives(nums):\n    \"\"\"Return the number of negative numbers in the given list.\n    \n    >>> count_negatives([5, -1, -2, 0, 3])\n    2\n    \"\"\"\n    new =[num for num in nums if num<0]\n    return len(new)\n\nq6.check()",
      "execution_count": 16,
      "outputs": [
        {
          "output_type": "display_data",
          "data": {
            "text/plain": "<IPython.core.display.Javascript object>",
            "application/javascript": "parent.postMessage({\"jupyterEvent\": \"custom.exercise_interaction\", \"data\": {\"outcomeType\": 1, \"valueTowardsCompletion\": 0.02702702702702703, \"interactionType\": 1, \"learnTutorialId\": 108, \"questionId\": \"6_CountNegativesRiddle\", \"learnToolsVersion\": \"0.2.10\", \"failureMessage\": \"\", \"exceptionClass\": \"\", \"trace\": \"\"}}, \"*\")"
          },
          "metadata": {}
        },
        {
          "output_type": "display_data",
          "data": {
            "text/plain": "Correct: \n\n\nHere's a non-obvious solution using only tools shown in the tutorial notebook:\n```python\ndef count_negatives(nums):\n    nums.append(0)\n    # We could also have used the list.sort() method, which modifies a list, putting it in sorted order.\n    nums = sorted(nums)\n    return nums.index(0)\n```\n\nThe above implementation relies on the fact that `list.index` returns the index of the *first* occurrence of a value. (You can verify this by calling `help(list.index)`.) So if, after sorting the list in ascending order, the value 0 is at index 0, then the number of negatives is 0. If 0 is at index 2 (i.e. the third element), then there are two elements smaller than 0. And so on.\n\n*Note*: it's usually considered \"impolite\" to modify a list that someone passes to your function without giving them some warning (i.e. unless the docstring says that it modifies its input). So, if we wanted to be nice, we could have started by making a copy of nums using the `list.copy()` method (e.g. `our_nums = nums.copy()`), and then working with that copy rather than the original.\n\nIf you're a big Lisp fan, you might have written this technically compliant solution (we haven't talked about recursion, but I guess this doesn't use any syntax or functions we haven't seen yet...):\n\n```python\ndef count_negatives(nums):\n    # Equivalent to \"if len(nums) == 0\". An empty list is 'falsey'.\n    if not nums:\n        return 0\n    else:\n        # Implicitly converting a boolean to an int! See question 6 of the\n        # exercise on booleans and conditionals\n        return (nums[0] < 0) + count_negatives(nums[1:])\n```",
            "text/markdown": "<span style=\"color:#33cc33\">Correct:</span> \n\n\nHere's a non-obvious solution using only tools shown in the tutorial notebook:\n```python\ndef count_negatives(nums):\n    nums.append(0)\n    # We could also have used the list.sort() method, which modifies a list, putting it in sorted order.\n    nums = sorted(nums)\n    return nums.index(0)\n```\n\nThe above implementation relies on the fact that `list.index` returns the index of the *first* occurrence of a value. (You can verify this by calling `help(list.index)`.) So if, after sorting the list in ascending order, the value 0 is at index 0, then the number of negatives is 0. If 0 is at index 2 (i.e. the third element), then there are two elements smaller than 0. And so on.\n\n*Note*: it's usually considered \"impolite\" to modify a list that someone passes to your function without giving them some warning (i.e. unless the docstring says that it modifies its input). So, if we wanted to be nice, we could have started by making a copy of nums using the `list.copy()` method (e.g. `our_nums = nums.copy()`), and then working with that copy rather than the original.\n\nIf you're a big Lisp fan, you might have written this technically compliant solution (we haven't talked about recursion, but I guess this doesn't use any syntax or functions we haven't seen yet...):\n\n```python\ndef count_negatives(nums):\n    # Equivalent to \"if len(nums) == 0\". An empty list is 'falsey'.\n    if not nums:\n        return 0\n    else:\n        # Implicitly converting a boolean to an int! See question 6 of the\n        # exercise on booleans and conditionals\n        return (nums[0] < 0) + count_negatives(nums[1:])\n```"
          },
          "metadata": {}
        }
      ]
    },
    {
      "metadata": {
        "collapsed": true,
        "_uuid": "dc502bc65c1d327ed75f9581581b2e1d73ce8188",
        "trusted": false
      },
      "cell_type": "code",
      "source": "#q6.hint()",
      "execution_count": null,
      "outputs": []
    },
    {
      "metadata": {
        "collapsed": true,
        "_uuid": "fcf0c22c515d9951076c501a0876ba1793d88f7b",
        "trusted": false
      },
      "cell_type": "code",
      "source": "#q6.solution()",
      "execution_count": null,
      "outputs": []
    },
    {
      "metadata": {
        "_uuid": "4a2f343a650047efda603a3a287bc46e6c61ec95"
      },
      "cell_type": "markdown",
      "source": "That's it for lists and tuples! If you have any questions or feedback (or just want to argue about whether Pluto should be a planet), head over to the [forums](https://kaggle.com/learn-forum).\n\nRemember that your notebook is private by default, and in order to share it with other people or ask for help with it, you'll need to make it public. First, you'll need to save a version of your notebook that shows your current work by hitting the \"Commit & Run\" button. (Your work is saved automatically, but versioning your work lets you go back and look at what it was like at the point you saved it. It also let's you share a nice compiled notebook instead of just the raw code.) Then, once your notebook is finished running, you can go to the Settings tab in the panel to the left (you may have to expand it by hitting the [<] button next to the \"Commit & Run\" button) and setting the \"Visibility\" dropdown to \"Public\".\n\n# Keep Going\n\nWhen you're ready to continue, [click here](https://www.kaggle.com/colinmorris/loops-and-list-comprehensions) to continue on to the next tutorial on loops and list comprehensions."
    }
  ],
  "metadata": {
    "kernelspec": {
      "display_name": "Python 3",
      "language": "python",
      "name": "python3"
    },
    "language_info": {
      "name": "python",
      "version": "3.6.6",
      "mimetype": "text/x-python",
      "codemirror_mode": {
        "name": "ipython",
        "version": 3
      },
      "pygments_lexer": "ipython3",
      "nbconvert_exporter": "python",
      "file_extension": ".py"
    },
    "learntools_metadata": {
      "lesson_index": 3,
      "type": "exercise"
    }
  },
  "nbformat": 4,
  "nbformat_minor": 1
}