{
  "cells": [
    {
      "metadata": {
        "_uuid": "b5de51b0d89dd7db092dc59403e79a9614a47bb3"
      },
      "cell_type": "markdown",
      "source": "These exercises accompany the tutorial on [strings and dictionaries](https://www.kaggle.com/colinmorris/strings-and-dictionaries).\n\nRun the setup code below before working on the questions (and run it again if you leave this notebook and come back later)."
    },
    {
      "metadata": {
        "_uuid": "28fc8fdcc6864a29471d56343228d0a308efdae9",
        "trusted": true
      },
      "cell_type": "code",
      "source": "# SETUP. You don't need to worry for now about what this code does or how it works. If you're ever curious about the \n# code behind these exercises, it's available under an open source license here: https://github.com/Kaggle/learntools/\nfrom learntools.core import binder; binder.bind(globals())\nfrom learntools.python.ex6 import *\nprint('Setup complete.')",
      "execution_count": null,
      "outputs": []
    },
    {
      "metadata": {
        "_uuid": "0b5b3abb1eb6822b0e07cda1f3929e312cb3746b"
      },
      "cell_type": "markdown",
      "source": "# Exercises"
    },
    {
      "metadata": {
        "_uuid": "024177c7b279836b4ba4f8603d50637f26b7102b"
      },
      "cell_type": "markdown",
      "source": "## 0. \n\nLet's start with a string lightning round to warm up. What are the lengths of the strings below?\n\nFor each of the five strings below, predict what `len()` would return when passed that string. Use the variable `length` to record your answer, then run the cell to check whether you were right."
    },
    {
      "metadata": {
        "_uuid": "64b54f7ff3e1b2f7bfc55396a6f246b570a47325",
        "trusted": true
      },
      "cell_type": "code",
      "source": "a = \"\"\nlength=len(a)\nq0.a.check()",
      "execution_count": null,
      "outputs": []
    },
    {
      "metadata": {
        "_uuid": "8d61906ec12eff57c804902845bfff4205ca7b51",
        "trusted": true
      },
      "cell_type": "code",
      "source": "b = \"it's ok\"\nlength=len(b)\nprint(length)\nq0.b.check()",
      "execution_count": null,
      "outputs": []
    },
    {
      "metadata": {
        "_uuid": "d37446dbe3b5239c9e710449d3b4d58a187988d7",
        "trusted": true
      },
      "cell_type": "code",
      "source": "c = 'it\\'s ok'\nlength=len(c)\nprint(length)\nq0.c.check()",
      "execution_count": null,
      "outputs": []
    },
    {
      "metadata": {
        "_uuid": "90a6efe07e7e98ca207de7642a4ecbf3d3650e67",
        "trusted": true
      },
      "cell_type": "code",
      "source": "d = \"\"\"hey\"\"\"\nlength=len(d)\nprint(length)\nq0.d.check()",
      "execution_count": null,
      "outputs": []
    },
    {
      "metadata": {
        "_uuid": "a9aa32fa448e235cfc75d82727f9eb9b2f6aa965",
        "trusted": false
      },
      "cell_type": "code",
      "source": "e = '\\n'\nlength = -1\nq0.e.check()",
      "execution_count": null,
      "outputs": []
    },
    {
      "metadata": {
        "_uuid": "4d6fe22568586e1197ab74ecefc2b26bae0819dc"
      },
      "cell_type": "markdown",
      "source": "## 1.\n\nThere is a saying that \"Data scientists spend 80% of their time cleaning data, and 20% of their time complaining about cleaning data.\" Let's see if you can write a function to help clean US zip code data. Given a string, it should return whether or not that string represents a valid zip code. For our purposes, a valid zip code is any string consisting of exactly 5 digits.\n\nHINT: `str` has a method that will be useful here. Use `help(str)` to review a list of string methods."
    },
    {
      "metadata": {
        "_uuid": "0c66ea1fafbb56e0848bb92e61902d6ffefe9c40",
        "trusted": true
      },
      "cell_type": "code",
      "source": "def is_valid_zip(zip_code):\n    \"\"\"Returns whether the input string is a valid (5 digit) zip code\n    \"\"\"\n    return len(zip_code)== 5 and zip_code.isdigit()\nq1.check()",
      "execution_count": null,
      "outputs": []
    },
    {
      "metadata": {
        "_uuid": "83684e916acbd053494187e9f8feb03a7f2a68b5",
        "trusted": true
      },
      "cell_type": "code",
      "source": "q1.hint()\nq1.solution()",
      "execution_count": null,
      "outputs": []
    },
    {
      "metadata": {
        "_uuid": "3a8488084df8a9ade13c41f6a3a414b5720163f8"
      },
      "cell_type": "markdown",
      "source": "## 2.\n\nA researcher has gathered thousands of news articles. But she wants to focus her attention on articles including a specific word. Complete the function below to help her filter her list of articles.\n\nYour function should meet the following criteria\n\n- Do not include documents where the keyword string shows up only as a part of a larger word. For example, if she were looking for the keyword “closed”, you would not include the string “enclosed.” \n- She does not want you to distinguish upper case from lower case letters. So the phrase “Closed the case.” would be included when the keyword is “closed”\n- Do not let periods or commas affect what is matched. “It is closed.” would be included when the keyword is “closed”. But you can assume there are no other types of punctuation."
    },
    {
      "metadata": {
        "_uuid": "6fce53248e7c15bcba4923bb74ea8d9dc0c53c26",
        "trusted": true
      },
      "cell_type": "code",
      "source": "def word_search(doc_list, keyword):\n    \"\"\"\n    Takes a list of documents (each document is a string) and a keyword. \n    Returns list of the index values into the original list for all documents \n    containing the keyword.\n\n    Example:\n    doc_list = [\"The Learn Python Challenge Casino.\", \"They bought a car\", \"Casinoville\"]\n    >>> word_search(doc_list, 'casino')\n    >>> [0]\n    \"\"\"\n    list_index=[]\n    for i, doc in enumerate(doc_list):\n        tokens=doc.split()\n        normalized = [token.rstrip('.,').lower() for token in tokens]\n        if keyword in normalized:\n            list_index.append(i)\n    return list_index\n\nq2.check()",
      "execution_count": null,
      "outputs": []
    },
    {
      "metadata": {
        "collapsed": true,
        "_uuid": "b3f19813e70dab65abc5e4b6c57acdf68196e152",
        "trusted": false
      },
      "cell_type": "code",
      "source": "#q2.hint()\n#q2.solution()",
      "execution_count": null,
      "outputs": []
    },
    {
      "metadata": {
        "_uuid": "4229e9f380d1cc7e52016b29585e056fb2b01844"
      },
      "cell_type": "markdown",
      "source": "## 3.\n\nNow the researcher wants to supply multiple keywords to search for. Complete the function below to help her.\n\n(You're encouraged to use the `word_search` function you just wrote when implementing this function. Reusing code in this way makes your programs more robust and readable - and it saves typing!)"
    },
    {
      "metadata": {
        "_uuid": "8ffef693d92c58ddb776a74b1df679b9ff87b73e",
        "trusted": true
      },
      "cell_type": "code",
      "source": "def multi_word_search(doc_list, keywords):\n    \"\"\"\n    Takes list of documents (each document is a string) and a list of keywords.  \n    Returns a dictionary where each key is a keyword, and the value is a list of indices\n    (from doc_list) of the documents containing that keyword\n\n    >>> doc_list = [\"The Learn Python Challenge Casino.\", \"They bought a car and a casino\", \"Casinoville\"]\n    >>> keywords = ['casino', 'they']\n    >>> multi_word_search(doc_list, keywords)\n    {'casino': [0, 1], 'they': [1]}\n    \"\"\"\n    list_dic={}\n    for keyword in keywords:\n        indices =[]\n        for i, doc in enumerate(doc_list):\n            tokens=doc.split()\n            normalized = [token.rstrip('.,').lower() for token in tokens]\n            if keyword in normalized:\n                indices.append(i)\n        list_dic[keyword]=indices\n    return list_dic\n \nq3.check()",
      "execution_count": null,
      "outputs": []
    },
    {
      "metadata": {
        "_uuid": "285c2bf0e03c1a0b8707955f8c60926d0d08cfb9",
        "trusted": true
      },
      "cell_type": "code",
      "source": "q3.solution()",
      "execution_count": null,
      "outputs": []
    },
    {
      "metadata": {
        "_uuid": "3d4267a06a075f97eefdc1bfd6aebe98f5076e44"
      },
      "cell_type": "markdown",
      "source": "## 4. <span title=\"Spicy\" style=\"color: coral\">🌶️🌶️</span>\n\nDiamonds are beautiful, but they are just so expensive. Write a python program to create counterfeit ASCII diamonds such as the following:\n```\n    /\\\n   //\\\\\n  ///\\\\\\\n ////\\\\\\\\\n/////\\\\\\\\\\\n\\\\\\\\\\/////\n \\\\\\\\////\n  \\\\\\///\n   \\\\//\n    \\/\n```\n\nYour function should allow the caller to choose the size of the diamond (in terms of number of lines). The above diamond has a height of 10. Here's a 4-line diamond:\n\n```\n /\\ \n//\\\\\n\\\\//\n \\/ \n```\n\n(You can assume your function will only be called with even numbers)"
    },
    {
      "metadata": {
        "_uuid": "4e8e071e7676e57dfeb3c049414b3c25f9c89f91",
        "trusted": true
      },
      "cell_type": "code",
      "source": "def diamond(height):\n    \"\"\"Return a string resembling a diamond of specified height (measured in lines).\n    height must be an even integer.  \"\"\"\n    h=int(height/2)\n    s=''\n    for i in range(h):\n        s += ' '*(h-i-1) + '/'*(i+1) + '\\\\'*(i+1) +'\\n'\n        s.center(height)\n    for i in range(h):\n        s += ' '*(i) + ' \\\\'*(h-i) + '/'*(h-i)+'\\n'\n        s.center(height)\n    return s \n\nq4.check()",
      "execution_count": null,
      "outputs": []
    },
    {
      "metadata": {
        "_uuid": "3a2f73dbf4269b95fa8a9ad6c7045020f6cd7e50"
      },
      "cell_type": "markdown",
      "source": "We've provided an example height-4 diamond below as a Python string. It may help to inspect it in the console."
    },
    {
      "metadata": {
        "_uuid": "e5ba774c809838afe1b3dc170af88a7c4e0e789f",
        "trusted": false
      },
      "cell_type": "code",
      "source": "d4 = \"\"\" /\\\\ \n//\\\\\\\\\n\\\\\\\\//\n \\\\/ \"\"\"\nprint(d4)",
      "execution_count": null,
      "outputs": []
    },
    {
      "metadata": {
        "_uuid": "1065c1abc72acbac9434b42e81b05548b4f74adb",
        "trusted": true
      },
      "cell_type": "code",
      "source": "q4.hint()\nq4.solution()",
      "execution_count": null,
      "outputs": []
    },
    {
      "metadata": {
        "_uuid": "dd53a200822f1ec4ffde3228b42cc3951a9f19d7"
      },
      "cell_type": "markdown",
      "source": "## 5. <span title=\"Spicy\" style=\"color: coral\">🌶️🌶️</span>\n\nDice may not have any memory, but apparently the roulette wheel at the Learn Challenge Casino does. You’ve received a tip-off that the wheel has some exploitable bias where the probability of landing on a given number changes depending on the number previously landed on. Analyze a list containing a history of roulette spins. \n\nReturn a dictionary where the keys are numbers on the roulette wheel, and the values are dictionaries mapping numbers on the wheel to probabilities, such that `d[n1][n2]` is an estimate of the probability that the next spin will land on n2, given that the previous spin landed on n1."
    },
    {
      "metadata": {
        "_uuid": "a6808775456abe78f9064263c8a5510df79df96e",
        "trusted": false
      },
      "cell_type": "code",
      "source": "def conditional_roulette_probs(history):\n    # dict where keys are numbers and values are dicts\n    # counts[a][b] is the number of times we've spun the number b immediately after spinning a\n    counts = {}\n    for i in range(1, len(history)):\n        roll, prev = history[i], history[i-1]\n        if prev not in counts:\n            counts[prev] = {}\n        if roll not in counts[prev]:\n            counts[prev][roll] = 0\n        counts[prev][roll] += 1\n\n    probs = {}\n    for prev, nexts in counts.items():\n        total = sum(nexts.values())\n        sub_probs = {next_spin: next_count/total\n                for next_spin, next_count in nexts.items()}\n        probs[prev] = sub_probs\n    return probs\n\nq5.check()",
      "execution_count": null,
      "outputs": []
    },
    {
      "metadata": {
        "_uuid": "09061bf63fa1b3a9cdc6546a5864c345f3d72377",
        "trusted": true
      },
      "cell_type": "code",
      "source": "q5.solution()",
      "execution_count": null,
      "outputs": []
    },
    {
      "metadata": {
        "_uuid": "8f8bbb871d84c34ffeedff1bf70a0f3405b13a1d"
      },
      "cell_type": "markdown",
      "source": "If you have any questions, be sure to post them on the [forums](https://www.kaggle.com/learn-forum).\n\nRemember that your notebook is private by default, and in order to share it with other people or ask for help with it, you'll need to make it public. First, you'll need to save a version of your notebook that shows your current work by hitting the \"Commit & Run\" button. (Your work is saved automatically, but versioning your work lets you go back and look at what it was like at the point you saved it. It also let's you share a nice compiled notebook instead of just the raw code.) Then, once your notebook is finished running, you can go to the Settings tab in the panel to the left (you may have to expand it by hitting the [<] button next to the \"Commit & Run\" button) and setting the \"Visibility\" dropdown to \"Public\".\n\n# Keep Going\n\nWhen you're ready to continue, [click here](https://www.kaggle.com/colinmorris/working-with-external-libraries) to continue on to the next tutorial on imports."
    }
  ],
  "metadata": {
    "kernelspec": {
      "display_name": "Python 3",
      "language": "python",
      "name": "python3"
    },
    "language_info": {
      "name": "python",
      "version": "3.6.6",
      "mimetype": "text/x-python",
      "codemirror_mode": {
        "name": "ipython",
        "version": 3
      },
      "pygments_lexer": "ipython3",
      "nbconvert_exporter": "python",
      "file_extension": ".py"
    },
    "learntools_metadata": {
      "lesson_index": 5,
      "type": "exercise"
    }
  },
  "nbformat": 4,
  "nbformat_minor": 1
}