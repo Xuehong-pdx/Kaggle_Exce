{
  "cells": [
    {
      "metadata": {
        "_uuid": "683bed20660ff0bb2ccba9a2743d338e215c5e4b"
      },
      "cell_type": "markdown",
      "source": "# Introduction\n\nThis is the workbook component of the \"Indexing, selecting, assigning\" section. For the reference component, [**click here**](https://www.kaggle.com/residentmario/indexing-selecting-assigning-reference).\n\nSelecting specific values of a pandas `DataFrame` or `Series` to work on is an implicit step in almost any data operation you'll run, so one of the first things you need to learn in working with data in Python is how to go about selecting the data points relevant to you quickly and effectively.\n\nIn this set of exercises we will work on exploring the [Wine Reviews dataset](https://www.kaggle.com/zynicide/wine-reviews). \n\n# Relevant Resources\n* **[Quickstart to indexing and selecting data](https://www.kaggle.com/residentmario/indexing-and-selecting-data/)** \n* [Indexing and Selecting Data](https://pandas.pydata.org/pandas-docs/stable/indexing.html) section of pandas documentation\n* [Pandas Cheat Sheet](https://assets.datacamp.com/blog_assets/PandasPythonForDataScience.pdf)\n\n\n"
    },
    {
      "metadata": {
        "_uuid": "be272da85a55b9aa3ab0bf094e408d919692fb91"
      },
      "cell_type": "markdown",
      "source": "# Set Up\n\nRun the following cell to load your data and some utility functions (including code to check your answers)"
    },
    {
      "metadata": {
        "trusted": true,
        "_uuid": "daaccff64ded50789ab74754ccbfc4a7bb0131f5"
      },
      "cell_type": "code",
      "source": "import pandas as pd\n\nreviews = pd.read_csv(\"../input/wine-reviews/winemag-data-130k-v2.csv\", index_col=0)\npd.set_option(\"display.max_rows\", 5)\n\nfrom learntools.core import binder; binder.bind(globals())\nfrom learntools.pandas.indexing_selecting_and_assigning import *\nprint(\"Setup complete.\")",
      "execution_count": 1,
      "outputs": [
        {
          "output_type": "stream",
          "text": "Setup complete.\n",
          "name": "stdout"
        }
      ]
    },
    {
      "metadata": {
        "_uuid": "6434e2817754265cbff8913d64405d6748884896"
      },
      "cell_type": "markdown",
      "source": "Look at an overview of your data by running the following line"
    },
    {
      "metadata": {
        "trusted": true,
        "_uuid": "96d612a324cdbe8bf91b7a7d56750029a8634930"
      },
      "cell_type": "code",
      "source": "reviews.head()",
      "execution_count": null,
      "outputs": []
    },
    {
      "metadata": {
        "_uuid": "484a89754fcb39b67a224cd2f965179a4b6831b9"
      },
      "cell_type": "markdown",
      "source": "# Exercises"
    },
    {
      "metadata": {
        "collapsed": true,
        "_uuid": "5e854714c698ffb197fd3b5d82248dd652b08c74"
      },
      "cell_type": "markdown",
      "source": "## 1.\n\nSelect the `description` column from `reviews` and assign the result to the variable `desc`."
    },
    {
      "metadata": {
        "trusted": true,
        "_uuid": "19689b4c2663906027b51d067a5d01bfc44778eb"
      },
      "cell_type": "code",
      "source": "# Your code here\ndesc = reviews['description']\n\nq1.check()",
      "execution_count": null,
      "outputs": []
    },
    {
      "metadata": {
        "_uuid": "e10550c0d11328feb7a16fee3da010cdd7cfa970"
      },
      "cell_type": "markdown",
      "source": "Follow-up question: what type of object is `desc`? If you're not sure, you can check by calling Python's `type` function: `type(desc)`."
    },
    {
      "metadata": {
        "trusted": true,
        "_uuid": "c8132e7bc5c5839877253e88396f6e1813d24058"
      },
      "cell_type": "code",
      "source": "# Uncomment the line below to see a solution\ntype(desc)\nq1.solution()",
      "execution_count": null,
      "outputs": []
    },
    {
      "metadata": {
        "_uuid": "da3e28e42fd4666ff4be5ec67e74cbbaae14a0e6"
      },
      "cell_type": "markdown",
      "source": "## 2.\n\nSelect the first value from the description column of `reviews`, assigning it to variable `first_description`."
    },
    {
      "metadata": {
        "trusted": true,
        "_uuid": "853320dfcd16e6af5b31bbe39839e3b17438ec56"
      },
      "cell_type": "code",
      "source": "first_description = reviews.description[0]\n\nq2.check()\nfirst_description",
      "execution_count": null,
      "outputs": []
    },
    {
      "metadata": {
        "trusted": false,
        "_uuid": "85fc87f763ef1c54e6798a28be8fa53c7b517259"
      },
      "cell_type": "code",
      "source": "#q2.solution()",
      "execution_count": null,
      "outputs": []
    },
    {
      "metadata": {
        "_uuid": "84ffa1c300ab4013f586118c02576e9957bf6adb"
      },
      "cell_type": "markdown",
      "source": "## 3. \n\nSelect the first row of data (the first record) from `reviews`, assigning it to the variable `first_row`.\n\nHint: from this exercise onwards I strongly recommend using `loc` or `iloc`."
    },
    {
      "metadata": {
        "trusted": true,
        "_uuid": "968d710f11afea6027164dc82599801e7103c3b8"
      },
      "cell_type": "code",
      "source": "first_row = reviews.iloc[0]\n\nq3.check()\nfirst_row",
      "execution_count": null,
      "outputs": []
    },
    {
      "metadata": {
        "trusted": false,
        "_uuid": "8bcea0cf5c78ba3947acec37699252edb384e506"
      },
      "cell_type": "code",
      "source": "#q3.solution()",
      "execution_count": null,
      "outputs": []
    },
    {
      "metadata": {
        "_uuid": "85897d0e97ce23fdc231cfe30fc1c7f0b7c979ad"
      },
      "cell_type": "markdown",
      "source": "## 4.\n\nSelect the first 10 values from the `description` column in `reviews`, assigning the result to variable `first_descriptions`.\n\nHint: format your output as a `pandas` `Series`."
    },
    {
      "metadata": {
        "trusted": true,
        "_uuid": "2126d270f76d9df3c5a287c990067f36a0e39733"
      },
      "cell_type": "code",
      "source": "first_descriptions = reviews.description[:10]\n\nq4.check()\nfirst_descriptions",
      "execution_count": null,
      "outputs": []
    },
    {
      "metadata": {
        "trusted": false,
        "_uuid": "705b9db86e39ec6fd83fd58d192877147ee4e340"
      },
      "cell_type": "code",
      "source": "#q4.solution()",
      "execution_count": null,
      "outputs": []
    },
    {
      "metadata": {
        "_uuid": "9f3d1f614206ed26c1e2f8018a87e2a9f8f0bc3b"
      },
      "cell_type": "markdown",
      "source": "## 5.\n\nSelect the records with index labels `1`, `2`, `3`, `5`, and `8`, assigning the result to the variable `sample_reviews`.\n\nIn other words, generate the following`DataFrame`:\n\n![](https://i.imgur.com/sHZvI1O.png)"
    },
    {
      "metadata": {
        "trusted": true,
        "_uuid": "4bc36e1b2fea85d6c539f00851d14a1368ce1e92"
      },
      "cell_type": "code",
      "source": "sample_reviews = reviews.loc[[1, 2, 3, 5, 8]]\n\nq5.check()\nsample_reviews",
      "execution_count": null,
      "outputs": []
    },
    {
      "metadata": {
        "trusted": true,
        "_uuid": "f2ede2f12db46d3cacdefca76449dc2f4cb45252"
      },
      "cell_type": "code",
      "source": "q5.solution()",
      "execution_count": null,
      "outputs": []
    },
    {
      "metadata": {
        "_uuid": "14c246e9ef7f203647046e6f95b09bca6a914552"
      },
      "cell_type": "markdown",
      "source": "## 6.\n\nCreate a variable `df` containing the `country`, `province`, `region_1`, and `region_2` columns of the records with the index labels `0`, `1`, `10`, and `100`. In other words, generate the following `DataFrame`:\n\n![](https://i.imgur.com/FUCGiKP.png)"
    },
    {
      "metadata": {
        "trusted": true,
        "_uuid": "aa0b784af7ef128306e57f90b3f1041a3ce64a9f"
      },
      "cell_type": "code",
      "source": "df = reviews.loc[[0, 1, 10, 100], ['country', 'province', 'region_1', 'region_2']]\n\nq6.check()\ndf",
      "execution_count": null,
      "outputs": []
    },
    {
      "metadata": {
        "trusted": true,
        "_uuid": "6cfc786e43d5b65ef0bbf0b353cee5d73b26f6f9"
      },
      "cell_type": "code",
      "source": "q6.solution()",
      "execution_count": null,
      "outputs": []
    },
    {
      "metadata": {
        "_uuid": "b4cf7a7d5b6eeb1bcacdbccd797b9060a7e105ac"
      },
      "cell_type": "markdown",
      "source": "## 7.\n\nCreate a variable `df` containing the `country` and `variety` columns of the first 100 records. \n\nHint: you may use `loc` or `iloc`. When working on the answer this question and the several of the ones that follow, keep the following \"gotcha\" described in the [reference](https://www.kaggle.com/residentmario/indexing-selecting-assigning-reference) for this tutorial section:\n\n> `iloc` uses the Python stdlib indexing scheme, where the first element of the range is included and the last one excluded. So `0:10` will select entries `0,...,9`. `loc`, meanwhile, indexes inclusively. So `0:10` will select entries `0,...,10`.\n\n> [...]\n\n> ...[consider] when the DataFrame index is a simple numerical list, e.g. `0,...,1000`. In this case `reviews.iloc[0:1000]` will return 1000 entries, while `reviews.loc[0:1000]` return 1001 of them! To get 1000 elements using `iloc`, you will need to go one higher and ask for `reviews.iloc[0:1001]`."
    },
    {
      "metadata": {
        "trusted": true,
        "_uuid": "cc8c79a1bc9b0eb8a2054732faa5144c5709a0f0"
      },
      "cell_type": "code",
      "source": "df = reviews.loc[0:99,['country', 'variety']]\n\nq7.check()\ndf",
      "execution_count": null,
      "outputs": []
    },
    {
      "metadata": {
        "trusted": true,
        "_uuid": "704ed04019b9aaeb975292a1ba60c0bfff111ddd"
      },
      "cell_type": "code",
      "source": "q7.solution()",
      "execution_count": null,
      "outputs": []
    },
    {
      "metadata": {
        "_uuid": "5fa210017d77fd18636ca75272d4804612d6f1b1"
      },
      "cell_type": "markdown",
      "source": "## 8.\n\nCreate a DataFrame `italian_wines` containing reviews of wines made in `Italy`. Hint: `reviews.country` equals what?"
    },
    {
      "metadata": {
        "trusted": true,
        "_uuid": "dc2d0023469e2afcafbac7aeea16f6e8df2a2740"
      },
      "cell_type": "code",
      "source": "## 8.\nitalian_wines = reviews[reviews.country == 'Italy']\n\nq8.check()",
      "execution_count": null,
      "outputs": []
    },
    {
      "metadata": {
        "trusted": false,
        "_uuid": "5d70c1da194ad05c42bddda611e3932958f51922"
      },
      "cell_type": "code",
      "source": "#q8.solution()",
      "execution_count": null,
      "outputs": []
    },
    {
      "metadata": {
        "_uuid": "41795c31921f512943606a0bb593e8d659f24bac"
      },
      "cell_type": "markdown",
      "source": "## 9.\n\nCreate a DataFrame `top_oceania_wines` containing all reviews with at least 95 points (out of 100) for wines from Australia or New Zealand."
    },
    {
      "metadata": {
        "trusted": true,
        "_uuid": "4665c683a645bf9d98db1dae92445399c31ad616"
      },
      "cell_type": "code",
      "source": "top_oceania_wines = reviews[(reviews.country.isin(['Australia', 'New Zealand'])) & (reviews.points >=95)]          \n\nq9.check()\ntop_oceania_wines",
      "execution_count": 15,
      "outputs": [
        {
          "output_type": "display_data",
          "data": {
            "text/plain": "<IPython.core.display.Javascript object>",
            "application/javascript": "parent.postMessage({\"jupyterEvent\": \"custom.exercise_interaction\", \"data\": {\"outcomeType\": 1, \"valueTowardsCompletion\": 0.1111111111111111, \"interactionType\": 1, \"learnTutorialId\": 46, \"questionId\": \"9_TopOceanicWines\", \"learnToolsVersion\": \"0.2.10\", \"failureMessage\": \"\", \"exceptionClass\": \"\", \"trace\": \"\"}}, \"*\")"
          },
          "metadata": {}
        },
        {
          "output_type": "display_data",
          "data": {
            "text/plain": "Correct",
            "text/markdown": "<span style=\"color:#33cc33\">Correct</span>"
          },
          "metadata": {}
        },
        {
          "output_type": "execute_result",
          "execution_count": 15,
          "data": {
            "text/plain": "            country             ...                                    winery\n345       Australia             ...               Chambers Rosewood Vineyards\n346       Australia             ...               Chambers Rosewood Vineyards\n...             ...             ...                                       ...\n122507  New Zealand             ...                          Squawking Magpie\n122939    Australia             ...                                  Torbreck\n\n[49 rows x 13 columns]",
            "text/html": "<div>\n<style scoped>\n    .dataframe tbody tr th:only-of-type {\n        vertical-align: middle;\n    }\n\n    .dataframe tbody tr th {\n        vertical-align: top;\n    }\n\n    .dataframe thead th {\n        text-align: right;\n    }\n</style>\n<table border=\"1\" class=\"dataframe\">\n  <thead>\n    <tr style=\"text-align: right;\">\n      <th></th>\n      <th>country</th>\n      <th>description</th>\n      <th>designation</th>\n      <th>points</th>\n      <th>price</th>\n      <th>province</th>\n      <th>region_1</th>\n      <th>region_2</th>\n      <th>taster_name</th>\n      <th>taster_twitter_handle</th>\n      <th>title</th>\n      <th>variety</th>\n      <th>winery</th>\n    </tr>\n  </thead>\n  <tbody>\n    <tr>\n      <th>345</th>\n      <td>Australia</td>\n      <td>This wine contains some material over 100 year...</td>\n      <td>Rare</td>\n      <td>100</td>\n      <td>350.0</td>\n      <td>Victoria</td>\n      <td>Rutherglen</td>\n      <td>NaN</td>\n      <td>Joe Czerwinski</td>\n      <td>@JoeCz</td>\n      <td>Chambers Rosewood Vineyards NV Rare Muscat (Ru...</td>\n      <td>Muscat</td>\n      <td>Chambers Rosewood Vineyards</td>\n    </tr>\n    <tr>\n      <th>346</th>\n      <td>Australia</td>\n      <td>This deep brown wine smells like a damp, mossy...</td>\n      <td>Rare</td>\n      <td>98</td>\n      <td>350.0</td>\n      <td>Victoria</td>\n      <td>Rutherglen</td>\n      <td>NaN</td>\n      <td>Joe Czerwinski</td>\n      <td>@JoeCz</td>\n      <td>Chambers Rosewood Vineyards NV Rare Muscadelle...</td>\n      <td>Muscadelle</td>\n      <td>Chambers Rosewood Vineyards</td>\n    </tr>\n    <tr>\n      <th>...</th>\n      <td>...</td>\n      <td>...</td>\n      <td>...</td>\n      <td>...</td>\n      <td>...</td>\n      <td>...</td>\n      <td>...</td>\n      <td>...</td>\n      <td>...</td>\n      <td>...</td>\n      <td>...</td>\n      <td>...</td>\n      <td>...</td>\n    </tr>\n    <tr>\n      <th>122507</th>\n      <td>New Zealand</td>\n      <td>This blend of Cabernet Sauvignon (62.5%), Merl...</td>\n      <td>SQM Gimblett Gravels Cabernets/Merlot</td>\n      <td>95</td>\n      <td>79.0</td>\n      <td>Hawke's Bay</td>\n      <td>NaN</td>\n      <td>NaN</td>\n      <td>Joe Czerwinski</td>\n      <td>@JoeCz</td>\n      <td>Squawking Magpie 2014 SQM Gimblett Gravels Cab...</td>\n      <td>Bordeaux-style Red Blend</td>\n      <td>Squawking Magpie</td>\n    </tr>\n    <tr>\n      <th>122939</th>\n      <td>Australia</td>\n      <td>Full-bodied and plush yet vibrant and imbued w...</td>\n      <td>The Factor</td>\n      <td>98</td>\n      <td>125.0</td>\n      <td>South Australia</td>\n      <td>Barossa Valley</td>\n      <td>NaN</td>\n      <td>Joe Czerwinski</td>\n      <td>@JoeCz</td>\n      <td>Torbreck 2013 The Factor Shiraz (Barossa Valley)</td>\n      <td>Shiraz</td>\n      <td>Torbreck</td>\n    </tr>\n  </tbody>\n</table>\n<p>49 rows × 13 columns</p>\n</div>"
          },
          "metadata": {}
        }
      ]
    },
    {
      "metadata": {
        "trusted": true,
        "_uuid": "5ec9f5d67ea57663e2e9dbf13899b83d19c0cef1"
      },
      "cell_type": "code",
      "source": "q9.solution()",
      "execution_count": 5,
      "outputs": [
        {
          "output_type": "display_data",
          "data": {
            "text/plain": "<IPython.core.display.Javascript object>",
            "application/javascript": "parent.postMessage({\"jupyterEvent\": \"custom.exercise_interaction\", \"data\": {\"interactionType\": 3, \"learnTutorialId\": 46, \"questionId\": \"9_TopOceanicWines\", \"learnToolsVersion\": \"0.2.10\", \"valueTowardsCompletion\": 0.0, \"failureMessage\": \"\", \"exceptionClass\": \"\", \"trace\": \"\", \"outcomeType\": 4}}, \"*\")"
          },
          "metadata": {}
        },
        {
          "output_type": "display_data",
          "data": {
            "text/plain": "Solution: \n```python\ntop_oceania_wines = reviews[\n    (reviews.country.isin(['Australia', 'New Zealand']))\n    & (reviews.points >= 95)\n]\n```",
            "text/markdown": "<span style=\"color:#33cc99\">Solution:</span> \n```python\ntop_oceania_wines = reviews[\n    (reviews.country.isin(['Australia', 'New Zealand']))\n    & (reviews.points >= 95)\n]\n```"
          },
          "metadata": {}
        }
      ]
    },
    {
      "metadata": {
        "_uuid": "0d47c922237fc1240dc88a853ebb1913f0cb725c"
      },
      "cell_type": "markdown",
      "source": "## Keep going\n\nMove on to the [**Summary functions and maps workbook**](https://www.kaggle.com/residentmario/summary-functions-and-maps-workbook)."
    }
  ],
  "metadata": {
    "kernelspec": {
      "display_name": "Python 3",
      "language": "python",
      "name": "python3"
    },
    "language_info": {
      "name": "python",
      "version": "3.6.6",
      "mimetype": "text/x-python",
      "codemirror_mode": {
        "name": "ipython",
        "version": 3
      },
      "pygments_lexer": "ipython3",
      "nbconvert_exporter": "python",
      "file_extension": ".py"
    }
  },
  "nbformat": 4,
  "nbformat_minor": 1
}